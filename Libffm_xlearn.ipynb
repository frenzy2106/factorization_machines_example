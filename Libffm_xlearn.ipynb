{
 "cells": [
  {
   "cell_type": "code",
   "execution_count": 12,
   "metadata": {},
   "outputs": [],
   "source": [
    "import pandas as pd\n",
    "import xlearn as xl\n",
    "train = pd.read_csv('train_u6lujuX_CVtuZ9i.csv')\n",
    "import warnings\n",
    "warnings.filterwarnings('ignore')"
   ]
  },
  {
   "cell_type": "code",
   "execution_count": 13,
   "metadata": {},
   "outputs": [],
   "source": [
    "cols = ['Education','ApplicantIncome','Loan_Status','Credit_History']\n",
    "train_sub = train[cols]\n",
    "train_sub['Credit_History'].fillna(0, inplace = True)\n",
    "dict_ls = {'Y':1, 'N':0}\n",
    "train_sub['Loan_Status'].replace(dict_ls, inplace = True)"
   ]
  },
  {
   "cell_type": "code",
   "execution_count": 7,
   "metadata": {},
   "outputs": [],
   "source": [
    "from sklearn.model_selection import train_test_split\n",
    "X_train, X_test = train_test_split(train_sub, test_size = 0.3, random_state = 5)"
   ]
  },
  {
   "cell_type": "code",
   "execution_count": 8,
   "metadata": {},
   "outputs": [],
   "source": [
    "def convert_to_ffm(df,type,numerics,categories,features):\n",
    "    currentcode = len(numerics)\n",
    "    catdict = {}\n",
    "    catcodes = {}\n",
    "    \n",
    "    # Flagging categorical and numerical fields\n",
    "    for x in numerics:\n",
    "         catdict[x] = 0\n",
    "    for x in categories:\n",
    "         catdict[x] = 1\n",
    "    \n",
    "    nrows = df.shape[0]\n",
    "    ncolumns = len(features)\n",
    "    with open(str(type) + \"_ffm.txt\", \"w\") as text_file:\n",
    "    \n",
    "    # Looping over rows to convert each row to libffm format\n",
    "        for n, r in enumerate(range(nrows)):\n",
    "             datastring = \"\"\n",
    "             datarow = df.iloc[r].to_dict()\n",
    "             datastring += str(int(datarow['Loan_Status'])) # Set Target Variable here\n",
    "             \n",
    "            # For numerical fields, we are creating a dummy field here\n",
    "             for i, x in enumerate(catdict.keys()):\n",
    "                 if(catdict[x]==0):\n",
    "                     datastring = datastring + \" \"+str(i)+\":\"+ str(i)+\":\"+ str(datarow[x])\n",
    "                 else:\n",
    "            \n",
    "            # For a new field appearing in a training example\n",
    "                     if(x not in catcodes):\n",
    "                         catcodes[x] = {}\n",
    "                         currentcode +=1\n",
    "                         catcodes[x][datarow[x]] = currentcode #encoding the feature\n",
    "             \n",
    "            # For already encoded fields\n",
    "                     elif(datarow[x] not in catcodes[x]):\n",
    "                         currentcode +=1\n",
    "                         catcodes[x][datarow[x]] = currentcode #encoding the feature\n",
    "                     \n",
    "                     code = catcodes[x][datarow[x]]\n",
    "                     datastring = datastring + \" \"+str(i)+\":\"+ str(int(code))+\":1\"\n",
    "\n",
    "             datastring += '\\n'\n",
    "             text_file.write(datastring)"
   ]
  },
  {
   "cell_type": "code",
   "execution_count": 9,
   "metadata": {},
   "outputs": [],
   "source": [
    "convert_to_ffm(X_train,'train',['ApplicantIncome'],['Education','Loan_Status','Credit_History'],cols)\n",
    "convert_to_ffm(X_test,'test',['ApplicantIncome'],['Education','Loan_Status','Credit_History'],cols)"
   ]
  },
  {
   "cell_type": "code",
   "execution_count": 11,
   "metadata": {},
   "outputs": [],
   "source": [
    "import xlearn as xl\n",
    "\n",
    "ffm_model = xl.create_ffm()\n",
    "#ffm_model.setTrain(\"libffm_toy/criteo.tr.r100.gbdt0.ffm\")\n",
    "#ffm_model.setValidate(\"libffm_toy/criteo.va.r100.gbdt0.ffm\")\n",
    "\n",
    "ffm_model.setTrain(\"train_ffm.txt\")\n",
    "\n",
    "\n",
    "param = {'task':'binary', 'lr':0.2,\n",
    "         'lambda':0.002, 'metric':'acc'}\n",
    "\n",
    "\n",
    "# Start to train\n",
    "# The trained model will be stored in model.out\n",
    "ffm_model.fit(param, './model.out')\n",
    "\n",
    "# Prediction task\n",
    "ffm_model.setTest(\"test_ffm.txt\")  # Test data\n",
    "ffm_model.setSigmoid()  # Convert output to 0-1\n",
    "\n",
    "# Start to predict\n",
    "# The output result will be stored in output.txt\n",
    "ffm_model.predict(\"./model.out\", \"./output.txt\")"
   ]
  },
  {
   "cell_type": "code",
   "execution_count": null,
   "metadata": {},
   "outputs": [],
   "source": []
  }
 ],
 "metadata": {
  "kernelspec": {
   "display_name": "Python 3",
   "language": "python",
   "name": "python3"
  },
  "language_info": {
   "codemirror_mode": {
    "name": "ipython",
    "version": 3
   },
   "file_extension": ".py",
   "mimetype": "text/x-python",
   "name": "python",
   "nbconvert_exporter": "python",
   "pygments_lexer": "ipython3",
   "version": "3.7.1"
  }
 },
 "nbformat": 4,
 "nbformat_minor": 2
}
